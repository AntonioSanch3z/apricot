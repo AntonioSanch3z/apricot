{
 "cells": [
  {
   "cell_type": "markdown",
   "metadata": {},
   "source": [
    "#    APRICOT: Advanced Platform for Reproducible Infrastructures in the Cloud via Open Tools"
   ]
  },
  {
   "cell_type": "markdown",
   "metadata": {},
   "source": [
    "This notebook provide a complete example of reproducible experimentation in the field of life science. The objective is to determine the best reconstruction parameters for a simulated Positron Emision Tomography (PET) scaner system."
   ]
  },
  {
   "cell_type": "markdown",
   "metadata": {},
   "source": [
    "# Experimentation"
   ]
  },
  {
   "cell_type": "markdown",
   "metadata": {},
   "source": [
    "TO DO"
   ]
  },
  {
   "cell_type": "markdown",
   "metadata": {},
   "source": [
    "## Setting up the system"
   ]
  },
  {
   "cell_type": "markdown",
   "metadata": {},
   "source": [
    "For this experimentation we need perform a multiparametric analysis to obtain the best image reconstruction parameters. So, the first step is infrastructure deployment. The chosen infrastructure is a batch cluster with 5 worker nodes and ubuntu 18.04 LTS images as OS. Used nodes have 2 GB of RAM and 20 of disk space. Also, we recommend to assign, at least, two CPUs to front-end node for this experiment. To reproduce the experiment deploy this infrastructure using the APRICOT deploy extension and one of the supported cloud providers. Once the cluster has been configured, you can follow the experimentation."
   ]
  },
  {
   "cell_type": "markdown",
   "metadata": {},
   "source": [
    "Store the cluster and user names"
   ]
  },
  {
   "cell_type": "code",
   "execution_count": null,
   "metadata": {},
   "outputs": [],
   "source": [
    "clusterName = \"reconstruction\""
   ]
  },
  {
   "cell_type": "code",
   "execution_count": 1,
   "metadata": {},
   "outputs": [],
   "source": [
    "username = \"ubuntu\""
   ]
  },
  {
   "cell_type": "markdown",
   "metadata": {},
   "source": [
    "We need to load the python module with the APRICOT magics to manage our clusters. This step can be avoided if the module is loaded by default on each notebook."
   ]
  },
  {
   "cell_type": "code",
   "execution_count": null,
   "metadata": {},
   "outputs": [],
   "source": [
    "%reload_ext apricot_magic"
   ]
  },
  {
   "cell_type": "markdown",
   "metadata": {},
   "source": [
    "Once the infrastructure has been deployed and configured, check it using %apricot_ls magic"
   ]
  },
  {
   "cell_type": "code",
   "execution_count": null,
   "metadata": {
    "scrolled": true
   },
   "outputs": [],
   "source": [
    "%apricot_ls"
   ]
  },
  {
   "cell_type": "markdown",
   "metadata": {},
   "source": [
    "If the infrastructure deployment fails, we can get the output log with the following instruction,"
   ]
  },
  {
   "cell_type": "code",
   "execution_count": null,
   "metadata": {},
   "outputs": [],
   "source": [
    "%apricot_log $clusterName"
   ]
  },
  {
   "cell_type": "markdown",
   "metadata": {},
   "source": [
    "## Preparing data and programs"
   ]
  },
  {
   "cell_type": "markdown",
   "metadata": {},
   "source": [
    "Now, we must provide the necessary data and programs for our analisys:\n",
    "\n",
    "1- Raw simulated data\n",
    "\n",
    "2- Ideal image\n",
    "\n",
    "3- Comparision program code\n",
    "\n",
    "4- Reconstruction program code\n"
   ]
  },
  {
   "cell_type": "markdown",
   "metadata": {},
   "source": [
    "All required files can be upload easily from our computer using the ''%apricot_upload'' instruction. First, check if the data is at the current directory:"
   ]
  },
  {
   "cell_type": "code",
   "execution_count": 2,
   "metadata": {},
   "outputs": [
    {
     "name": "stdout",
     "output_type": "stream",
     "text": [
      "input\n",
      "reconstruction.ipynb\n",
      "script.sh\n"
     ]
    }
   ],
   "source": [
    "%%bash\n",
    "ls"
   ]
  },
  {
   "cell_type": "markdown",
   "metadata": {},
   "source": [
    "Next, upload files. This can take several minutes."
   ]
  },
  {
   "cell_type": "code",
   "execution_count": null,
   "metadata": {},
   "outputs": [],
   "source": [
    "%apricot_upload $clusterName input /home/$username"
   ]
  },
  {
   "cell_type": "markdown",
   "metadata": {},
   "source": [
    "Check if all the files has been succesfully uploaded"
   ]
  },
  {
   "cell_type": "code",
   "execution_count": null,
   "metadata": {},
   "outputs": [],
   "source": [
    "%apricot exec $clusterName ls /home/$username/input"
   ]
  },
  {
   "cell_type": "markdown",
   "metadata": {},
   "source": [
    "Now, we need to compile the source codes. All the necessary compilers and cmake tools should be installed at configuration initialization."
   ]
  },
  {
   "cell_type": "markdown",
   "metadata": {},
   "source": [
    "Compile the reconstruction and comparision programs"
   ]
  },
  {
   "cell_type": "code",
   "execution_count": null,
   "metadata": {},
   "outputs": [],
   "source": [
    "%apricot exec $clusterName cd input/reconstructor_code && bash install.sh && cp reconstructor ../"
   ]
  },
  {
   "cell_type": "code",
   "execution_count": null,
   "metadata": {},
   "outputs": [],
   "source": [
    "%apricot exec $clusterName cd input && g++ -o evaluateImage evaluateImage.cpp -O2"
   ]
  },
  {
   "cell_type": "markdown",
   "metadata": {},
   "source": [
    "Check if the executables has been created (evaluateImage and reconstructor)"
   ]
  },
  {
   "cell_type": "code",
   "execution_count": null,
   "metadata": {},
   "outputs": [],
   "source": [
    "%apricot exec $clusterName ls input/"
   ]
  },
  {
   "cell_type": "markdown",
   "metadata": {},
   "source": [
    "Now we have all necessary files at cluster. This has been configured automatically with nfs, so the '/home' directory is shared by all workers and the frontend."
   ]
  },
  {
   "cell_type": "markdown",
   "metadata": {},
   "source": [
    "We need also a folder to store the results. Create a folder with 'results' name."
   ]
  },
  {
   "cell_type": "code",
   "execution_count": null,
   "metadata": {},
   "outputs": [],
   "source": [
    "%apricot exec $clusterName mkdir results"
   ]
  },
  {
   "cell_type": "markdown",
   "metadata": {},
   "source": [
    "## Executing jobs"
   ]
  },
  {
   "cell_type": "markdown",
   "metadata": {},
   "source": [
    "Now, is time to execute the experiment. For simplicity, this multiparametric study only uses three variable parameters. However, this can be extended to any number of parameter ranges. First of all, we need to specify each parameter interval and step size."
   ]
  },
  {
   "cell_type": "code",
   "execution_count": null,
   "metadata": {},
   "outputs": [],
   "source": [
    "minNvox_xy = 20\n",
    "maxNvox_xy = 250\n",
    "stepNvox_xy = 20\n",
    "\n",
    "minNvox_z = 20\n",
    "maxNvox_z = 250\n",
    "stepNvox_z = 20\n",
    "\n",
    "nChunksMin = 3\n",
    "nChunksMax = 5\n",
    "chunkStep = 1"
   ]
  },
  {
   "cell_type": "markdown",
   "metadata": {},
   "source": [
    "Now, get a identifier for this ranges"
   ]
  },
  {
   "cell_type": "code",
   "execution_count": null,
   "metadata": {},
   "outputs": [],
   "source": [
    "ID = %apricot_genMPid $minNvox_xy $maxNvox_xy $stepNvox_xy $minNvox_z $maxNvox_z $stepNvox_z $nChunksMin $nChunksMax $chunkStep"
   ]
  },
  {
   "cell_type": "code",
   "execution_count": null,
   "metadata": {},
   "outputs": [],
   "source": [
    "print(ID)"
   ]
  },
  {
   "cell_type": "markdown",
   "metadata": {},
   "source": [
    "Create a specific folder for results with previous ID"
   ]
  },
  {
   "cell_type": "code",
   "execution_count": null,
   "metadata": {},
   "outputs": [],
   "source": [
    "%apricot exec $clusterName mkdir results/$ID"
   ]
  },
  {
   "cell_type": "code",
   "execution_count": null,
   "metadata": {},
   "outputs": [],
   "source": [
    "%apricot exec $clusterName ls results"
   ]
  },
  {
   "cell_type": "markdown",
   "metadata": {},
   "source": [
    "Launch the jobs using ''%apricot_runMP'' and the script ''script.sh''. This step can be delayed several minutes until all workers has been configured."
   ]
  },
  {
   "cell_type": "code",
   "execution_count": null,
   "metadata": {
    "scrolled": true
   },
   "outputs": [],
   "source": [
    "%apricot_runMP $clusterName script.sh $minNvox_xy $maxNvox_xy $stepNvox_xy $minNvox_z $maxNvox_z $stepNvox_z $nChunksMin $nChunksMax $chunkStep\n",
    "            "
   ]
  },
  {
   "cell_type": "markdown",
   "metadata": {},
   "source": [
    "Check if all jobs has been finished"
   ]
  },
  {
   "cell_type": "code",
   "execution_count": null,
   "metadata": {},
   "outputs": [],
   "source": [
    "%apricot exec $clusterName squeue"
   ]
  },
  {
   "cell_type": "markdown",
   "metadata": {},
   "source": [
    "When no jobs appear in the tasks queue, execute post-processing script"
   ]
  },
  {
   "cell_type": "code",
   "execution_count": null,
   "metadata": {
    "scrolled": true
   },
   "outputs": [],
   "source": [
    "%apricot exec $clusterName bash input/getResults.sh $ID"
   ]
  },
  {
   "cell_type": "markdown",
   "metadata": {},
   "source": [
    "## Getting results"
   ]
  },
  {
   "cell_type": "markdown",
   "metadata": {},
   "source": [
    "At next step, download the file with the results of our multiparametric study."
   ]
  },
  {
   "cell_type": "code",
   "execution_count": null,
   "metadata": {},
   "outputs": [],
   "source": [
    "resultsFilename = \"results-\" + ID + \".dat\"\n",
    "%apricot_download $clusterName $resultsFilename ."
   ]
  },
  {
   "cell_type": "markdown",
   "metadata": {},
   "source": [
    "Read results file data"
   ]
  },
  {
   "cell_type": "code",
   "execution_count": null,
   "metadata": {},
   "outputs": [],
   "source": [
    "fileIn = open(resultsFilename,\"r\")\n",
    "\n",
    "data = fileIn.read()\n",
    "\n",
    "# Extract data lines\n",
    "data = data.strip().split('\\n')\n",
    "# Remove header line\n",
    "data.pop(0)\n",
    "\n",
    "# Extract input data\n",
    "XYnvox = []\n",
    "Znvox = []\n",
    "chunks = []\n",
    "userTimeMin = []\n",
    "userTimeSec = []\n",
    "systemTimeMin = []\n",
    "systemTimeSec = []\n",
    "RMSE = []\n",
    "PSNR = []\n",
    "NRMSD = []\n",
    "NMAD = []\n",
    "\n",
    "for line in data:\n",
    "    line = \" \".join(line.split())\n",
    "    words = line.strip().split(' ')\n",
    "    XYnvox.append(float(words[0]))\n",
    "    Znvox.append(float(words[1]))\n",
    "    chunks.append(float(words[2]))\n",
    "    userTimeMin.append(float(words[3]))\n",
    "    userTimeSec.append(float(words[4]))\n",
    "    systemTimeMin.append(float(words[5]))\n",
    "    systemTimeSec.append(float(words[6]))\n",
    "    RMSE.append(float(words[7]))\n",
    "    PSNR.append(float(words[8]))\n",
    "    NRMSD.append(float(words[9]))\n",
    "    NMAD.append(float(words[10]))\n",
    "    \n",
    "    \n",
    "fileIn.close()"
   ]
  },
  {
   "cell_type": "markdown",
   "metadata": {},
   "source": [
    "Import numpy and plot libraries"
   ]
  },
  {
   "cell_type": "code",
   "execution_count": null,
   "metadata": {},
   "outputs": [],
   "source": [
    "import numpy as np\n",
    "import matplotlib.pyplot as plt\n",
    "from mpl_toolkits.mplot3d import axes3d\n",
    "\n",
    "userTime = np.add(np.multiply(userTimeMin,60.0),userTimeSec)\n",
    "systTime = np.add(np.multiply(systemTimeMin,60.0),systemTimeSec)\n",
    "totalTime = userTime + systTime"
   ]
  },
  {
   "cell_type": "markdown",
   "metadata": {},
   "source": [
    "Plot the results"
   ]
  },
  {
   "cell_type": "code",
   "execution_count": null,
   "metadata": {},
   "outputs": [],
   "source": [
    "\n",
    "nChunks = 5.0\n",
    "subXY = []\n",
    "subZ = []\n",
    "subTimes = []\n",
    "subRMSE = []\n",
    "subPSNR = []\n",
    "subNRMSD = []\n",
    "subNMAD = []\n",
    "\n",
    "subRMSE_zoom = []\n",
    "subXY_zoom = []\n",
    "subZ_zoom = []\n",
    "nVoxCut = 60\n",
    "\n",
    "for i in list(range(len(XYnvox))):\n",
    "    if nChunks == chunks[i]:\n",
    "        subXY.append(XYnvox[i])\n",
    "        subZ.append(Znvox[i])\n",
    "        subTimes.append(totalTime[i])\n",
    "        subRMSE.append(RMSE[i])\n",
    "        subPSNR.append(PSNR[i])\n",
    "        subNRMSD.append(NRMSD[i])\n",
    "        subNMAD.append(NMAD[i])\n",
    "        if XYnvox[i] > nVoxCut and Znvox[i] > nVoxCut:\n",
    "            subXY_zoom.append(XYnvox[i])\n",
    "            subZ_zoom.append(Znvox[i])\n",
    "            subRMSE_zoom.append(RMSE[i])\n",
    "        \n",
    "Axpad = 280        \n",
    "fig = plt.figure()\n",
    "plt.rcParams[\"figure.figsize\"] = [100,100]\n",
    "plt.rcParams.update({'font.size': 128})\n",
    "\n",
    "ax = fig.add_subplot(111, projection='3d')\n",
    "ax.set_xlabel('nº voxels x-y')\n",
    "ax.set_ylabel('nº voxels z')\n",
    "ax.set_zlabel('time (s)')\n",
    "\n",
    "ax.xaxis.labelpad = Axpad\n",
    "ax.yaxis.labelpad = Axpad\n",
    "ax.zaxis.labelpad = Axpad\n",
    "\n",
    "\n",
    "ax.plot_trisurf(subXY,subZ,subTimes)\n",
    "plt.show()\n",
    "\n",
    "fig = plt.figure()\n",
    "ax = fig.add_subplot(111, projection='3d')\n",
    "ax.set_xlabel('nº voxels x-y')\n",
    "ax.set_ylabel('nº voxels z')\n",
    "ax.set_zlabel('rmse')\n",
    "\n",
    "ax.xaxis.labelpad = Axpad\n",
    "ax.yaxis.labelpad = Axpad\n",
    "ax.zaxis.labelpad = Axpad\n",
    "\n",
    "ax.plot_trisurf(subXY,subZ,subRMSE)\n",
    "plt.show()\n",
    "\n",
    "\n",
    "fig = plt.figure()\n",
    "ax = fig.add_subplot(111, projection='3d')\n",
    "ax.set_xlabel('nº voxels x-y')\n",
    "ax.set_ylabel('nº voxels z')\n",
    "ax.set_zlabel('rmse')\n",
    "\n",
    "ax.xaxis.labelpad = Axpad\n",
    "ax.yaxis.labelpad = Axpad\n",
    "ax.zaxis.labelpad = Axpad\n",
    "\n",
    "ax.plot_trisurf(subXY_zoom,subZ_zoom,subRMSE_zoom)\n",
    "plt.show()\n"
   ]
  },
  {
   "cell_type": "markdown",
   "metadata": {},
   "source": [
    "## Delete infrastructure"
   ]
  },
  {
   "cell_type": "markdown",
   "metadata": {},
   "source": [
    "If we have been finished the experimentation, destroy the cluster"
   ]
  },
  {
   "cell_type": "code",
   "execution_count": null,
   "metadata": {},
   "outputs": [],
   "source": [
    "%apricot destroy $clusterName"
   ]
  },
  {
   "cell_type": "markdown",
   "metadata": {},
   "source": [
    "# Conclusions and future work"
   ]
  },
  {
   "cell_type": "markdown",
   "metadata": {},
   "source": [
    "TODO"
   ]
  },
  {
   "cell_type": "markdown",
   "metadata": {},
   "source": [
    "# References"
   ]
  },
  {
   "cell_type": "markdown",
   "metadata": {},
   "source": [
    "TODO"
   ]
  }
 ],
 "metadata": {
  "kernelspec": {
   "display_name": "Python 3",
   "language": "python",
   "name": "python3"
  },
  "language_info": {
   "codemirror_mode": {
    "name": "ipython",
    "version": 3
   },
   "file_extension": ".py",
   "mimetype": "text/x-python",
   "name": "python",
   "nbconvert_exporter": "python",
   "pygments_lexer": "ipython3",
   "version": "3.6.8"
  }
 },
 "nbformat": 4,
 "nbformat_minor": 2
}
